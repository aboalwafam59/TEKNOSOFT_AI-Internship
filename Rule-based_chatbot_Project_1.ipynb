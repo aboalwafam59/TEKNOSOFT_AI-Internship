{
 "cells": [
  {
   "cell_type": "markdown",
   "id": "831415ff-3a15-43a9-95dd-0ecc0d6507b7",
   "metadata": {},
   "source": [
    "# Importing dependencies"
   ]
  },
  {
   "cell_type": "code",
   "execution_count": 8,
   "id": "92d55699-358f-4283-9cd8-c0d761b2a0a7",
   "metadata": {},
   "outputs": [
    {
     "name": "stdout",
     "output_type": "stream",
     "text": [
      "Requirement already satisfied: nltk in c:\\users\\aboalwafa\\appdata\\roaming\\python\\python312\\site-packages (3.8.1)\n",
      "Requirement already satisfied: click in c:\\users\\aboalwafa\\appdata\\roaming\\python\\python312\\site-packages (from nltk) (8.1.7)\n",
      "Requirement already satisfied: joblib in c:\\users\\aboalwafa\\anaconda3\\envs\\myenv\\lib\\site-packages (from nltk) (1.3.2)\n",
      "Requirement already satisfied: regex>=2021.8.3 in c:\\users\\aboalwafa\\appdata\\roaming\\python\\python312\\site-packages (from nltk) (2023.12.25)\n",
      "Requirement already satisfied: tqdm in c:\\users\\aboalwafa\\appdata\\roaming\\python\\python312\\site-packages (from nltk) (4.66.2)\n",
      "Requirement already satisfied: colorama in c:\\users\\aboalwafa\\anaconda3\\envs\\myenv\\lib\\site-packages (from click->nltk) (0.4.6)\n"
     ]
    }
   ],
   "source": [
    "# Install dependences\n",
    "!pip3 install nltk"
   ]
  },
  {
   "cell_type": "code",
   "execution_count": 1,
   "id": "bc4eadea-05b4-410a-8931-1ff59e5bb2a9",
   "metadata": {},
   "outputs": [],
   "source": [
    "# Import modules\n",
    "import re\n",
    "from nltk.corpus import wordnet"
   ]
  },
  {
   "cell_type": "markdown",
   "id": "8b3bf354-78a9-4616-acc2-e22f7d7e3053",
   "metadata": {},
   "source": [
    "# Building a list of keywords"
   ]
  },
  {
   "cell_type": "code",
   "execution_count": 4,
   "id": "1cf26f24-7a46-45a5-8821-67c879b5a561",
   "metadata": {},
   "outputs": [
    {
     "name": "stderr",
     "output_type": "stream",
     "text": [
      "[nltk_data] Downloading package wordnet to\n",
      "[nltk_data]     C:\\Users\\aboalwafa\\AppData\\Roaming\\nltk_data...\n",
      "[nltk_data]   Package wordnet is already up-to-date!\n"
     ]
    },
    {
     "data": {
      "text/plain": [
       "True"
      ]
     },
     "execution_count": 4,
     "metadata": {},
     "output_type": "execute_result"
    }
   ],
   "source": [
    "import nltk\n",
    "nltk.download('wordnet')"
   ]
  },
  {
   "cell_type": "code",
   "execution_count": 5,
   "id": "d2ee57d9-5543-47ca-8d00-5b47c5f1aced",
   "metadata": {},
   "outputs": [
    {
     "name": "stdout",
     "output_type": "stream",
     "text": [
      "{'hello': {'howdy', 'hello', 'how do you do', 'hi', 'hullo'}, 'timings': {'clock', 'time', 'timing'}}\n"
     ]
    }
   ],
   "source": [
    "# Building a list of keywords\n",
    "list_words = ['hello','timings']\n",
    "list_syn = {}\n",
    "for word in list_words:\n",
    "    synonyms = []\n",
    "    for syn in wordnet.synsets(word):\n",
    "        for lem in syn.lemmas():\n",
    "            # Remove any special characters from synonym strings\n",
    "            lem_name = re.sub(r'[^a-zA-Z0-9 \\n\\.]', ' ', lem.name())\n",
    "            synonyms.append(lem_name)\n",
    "    list_syn[word] = set(synonyms)\n",
    "print(list_syn)"
   ]
  },
  {
   "cell_type": "markdown",
   "id": "bed8b1df-fd61-4dd4-8f5d-64d903d7173a",
   "metadata": {},
   "source": [
    "# Building a dictionary of intents"
   ]
  },
  {
   "cell_type": "code",
   "execution_count": 6,
   "id": "9648e8d2-f3d1-48de-a90c-351b79073dbf",
   "metadata": {},
   "outputs": [
    {
     "name": "stdout",
     "output_type": "stream",
     "text": [
      "{'greet': re.compile('.*\\\\b howdy \\\\b.*|.*\\\\b hello \\\\b.*|.*\\\\b how do you do \\\\b.*|.*\\\\b hi \\\\b.*|.*\\\\b hullo \\\\b.*'), 'timings': re.compile('.*\\\\b clock \\\\b.*|.*\\\\b time \\\\b.*|.*\\\\b timing \\\\b.*')}\n"
     ]
    }
   ],
   "source": [
    "# Build a dictionary of intents & Keywords\n",
    "keywords = {}\n",
    "keywords_dict = {}\n",
    "\n",
    "# Defining a new key in the keywords dictionary\n",
    "keywords['greet'] = []\n",
    "\n",
    "# Populating the values in the keywords dictionary with synonyms of keywords formatted with RegEx metacharacters \n",
    "for synonym in list(list_syn['hello']):\n",
    "    keywords['greet'].append ('.*\\\\b '+synonym+' \\\\b.*')\n",
    "    \n",
    "# Defining a new key in the keywords dictionary\n",
    "keywords['timings'] = []\n",
    "\n",
    "# Populating the values in the keywords dictionary with synonyms of keywords formatted with RegEx metacharacters \n",
    "for synonym in list(list_syn['timings']):\n",
    "    keywords['timings'].append('.*\\\\b '+synonym+' \\\\b.*')\n",
    "\n",
    "for intent,keys in keywords.items():\n",
    "    \n",
    "     # Joining the values in the keywords dictionary with the OR (|) operator updating them in keywords_dict dictionary\n",
    "    keywords_dict[intent] = re.compile('|'.join(keys))\n",
    "print(keywords_dict)"
   ]
  },
  {
   "cell_type": "code",
   "execution_count": 7,
   "id": "b9f244da-4e92-4be6-9b71-827d1eebef77",
   "metadata": {},
   "outputs": [
    {
     "name": "stdout",
     "output_type": "stream",
     "text": [
      "{'greet': re.compile('.*\\\\bhowdy\\\\b.*|.*\\\\bhello\\\\b.*|.*\\\\bhow do you do\\\\b.*|.*\\\\bhi\\\\b.*|.*\\\\bhullo\\\\b.*'), 'timings': re.compile('.*\\\\bclock\\\\b.*|.*\\\\btime\\\\b.*|.*\\\\btiming\\\\b.*')}\n"
     ]
    }
   ],
   "source": [
    "# Building dictionary of Intents & Keywords\n",
    "keywords={}\n",
    "keywords_dict={}\n",
    "# Defining a new key in the keywords dictionary\n",
    "keywords['greet']=[]\n",
    "# Populating the values in the keywords dictionary with synonyms of keywords formatted with RegEx metacharacters \n",
    "for synonym in list(list_syn['hello']):\n",
    "    keywords['greet'].append('.*\\\\b'+synonym+'\\\\b.*')\n",
    "\n",
    "# Defining a new key in the keywords dictionary\n",
    "keywords['timings']=[]\n",
    "# Populating the values in the keywords dictionary with synonyms of keywords formatted with RegEx metacharacters \n",
    "for synonym in list(list_syn['timings']):\n",
    "    keywords['timings'].append('.*\\\\b'+synonym+'\\\\b.*')\n",
    "for intent, keys in keywords.items():\n",
    "    # Joining the values in the keywords dictionary with the OR (|) operator updating them in keywords_dict dictionary\n",
    "    keywords_dict[intent]=re.compile('|'.join(keys))\n",
    "print (keywords_dict)"
   ]
  },
  {
   "cell_type": "code",
   "execution_count": 8,
   "id": "400cf363-e5c0-49a1-8ba3-2c7888ede735",
   "metadata": {},
   "outputs": [
    {
     "data": {
      "text/plain": [
       "re.compile(r'.*\\bhowdy\\b.*|.*\\bhello\\b.*|.*\\bhow do you do\\b.*|.*\\bhi\\b.*|.*\\bhullo\\b.*',\n",
       "           re.UNICODE)"
      ]
     },
     "execution_count": 8,
     "metadata": {},
     "output_type": "execute_result"
    }
   ],
   "source": [
    "keywords_dict['greet']"
   ]
  },
  {
   "cell_type": "markdown",
   "id": "f648cf8a-d91a-4db9-879f-61d261dbd44d",
   "metadata": {},
   "source": [
    "# Defining responses"
   ]
  },
  {
   "cell_type": "code",
   "execution_count": 9,
   "id": "523d8c4f-05ae-4932-be81-922a41a59db8",
   "metadata": {},
   "outputs": [],
   "source": [
    "# Building dictionary of responses\n",
    "responses = {\n",
    "    'greet':'Hello! How can I help you?',\n",
    "    'timings':'We are open from 9AM to 5PM, Monday to Friday. We are closed on weekends and public holidays.',\n",
    "    'fallback':'I dont quite understand. Could you repeat that?',\n",
    "}"
   ]
  },
  {
   "cell_type": "markdown",
   "id": "83797c61-b54f-43dd-a38c-f6d940b5d6d0",
   "metadata": {},
   "source": [
    "# Matching intents and generating responses"
   ]
  },
  {
   "cell_type": "raw",
   "id": "dd3157de-6373-4d57-ab19-a0881447f400",
   "metadata": {},
   "source": [
    "RegEx’s search function uses the sequences to compare the character patterns in the keywords with the input string. If a match is found, the current intent is selected and used as a key to the responses dictionary to select the correct response."
   ]
  },
  {
   "cell_type": "code",
   "execution_count": null,
   "id": "9d7a2595-2d49-42e6-a4bf-9b63d1727ba1",
   "metadata": {},
   "outputs": [
    {
     "name": "stdout",
     "output_type": "stream",
     "text": [
      "Welcome to MyBank. How May I help you?\n"
     ]
    },
    {
     "name": "stdin",
     "output_type": "stream",
     "text": [
      " Hi\n"
     ]
    },
    {
     "name": "stdout",
     "output_type": "stream",
     "text": [
      "Hello! How can I help you?\n"
     ]
    }
   ],
   "source": [
    "print('Welcome to MyBank. How May I help you?')\n",
    "# While loop to run the chatbot indefinetely\n",
    "while(True):\n",
    "    # Takes the user input and converts all characters to lowercase\n",
    "    user_input = input().lower()\n",
    "    # Defining the Chatbot's exit condition\n",
    "    if user_input == 'quit':\n",
    "        print('Thank you for visiting.')\n",
    "        break\n",
    "    matched_intent = None\n",
    "    for intent,pattern in keywords_dict.items():\n",
    "        # Using the regular expression search function to look for keywords in user input\n",
    "        if re.search(pattern,user_input):\n",
    "            # if a keyword matches, select the corresponding intent from the keywords_dict dictionary\n",
    "            matched_intent = intent\n",
    "            # The fallback intent is selected by default\n",
    "    key = 'fallback'\n",
    "    if matched_intent in responses:\n",
    "        # If a keyword matches, the fallback intent is replaced by the matched intent as the key for the responses dictionary\n",
    "        key = matched_intent\n",
    "    # The chatbot prints the response that matches the selected intent\n",
    "    print(responses[key])"
   ]
  },
  {
   "cell_type": "code",
   "execution_count": null,
   "id": "85c46fad-9e99-4550-8683-985b382bb383",
   "metadata": {},
   "outputs": [],
   "source": []
  }
 ],
 "metadata": {
  "kernelspec": {
   "display_name": "Python 3 (ipykernel)",
   "language": "python",
   "name": "python3"
  },
  "language_info": {
   "codemirror_mode": {
    "name": "ipython",
    "version": 3
   },
   "file_extension": ".py",
   "mimetype": "text/x-python",
   "name": "python",
   "nbconvert_exporter": "python",
   "pygments_lexer": "ipython3",
   "version": "3.12.2"
  }
 },
 "nbformat": 4,
 "nbformat_minor": 5
}
